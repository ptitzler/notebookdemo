{
 "cells": [
  {
   "cell_type": "markdown",
   "metadata": {
    "collapsed": true
   },
   "source": [
    "<div class=\"alert alert-block alert-info\">If your notebook provides nonsequential reference content, then use the [reference notebook template](https://ibm.ent.box.com/file/73111333037) instead of this template.</div>"
   ]
  },
  {
   "cell_type": "markdown",
   "metadata": {},
   "source": [
    "# Template for learning-oriented notebooks\n",
    "\n",
    "Use this template for notebooks that provide a tutorial-like flow of tasks. Learning-oriented notebooks tend to focus on a single scenario or use case, with a linear progression that teaches users how to accomplish a specific task or set of closely related tasks. \n",
    "\n",
    "This template shows the main sections that are typical for a learning-oriented notebook.\n",
    "\n",
    "For tips on writing with Markdown, see [Markdown in notebooks cheatsheet](https://apsportal.ibm.com/docs/content/analyze-data/markd-jupyter.html).\n",
    "\n",
    "Don't forget to spell-check your notebook text! Just copy the text into your favorite word processing app to find any spelling or grammar mistakes."
   ]
  },
  {
   "cell_type": "markdown",
   "metadata": {},
   "source": [
    "### Notebook titles\n",
    "\n",
    "Notebook titles should be an imperative phrase, so begin the title with a verb like \"Get,\" \"Visualize,\" or \"Calculate.\" Titles describe the major goal of the notebook tasks, but can also include information about the techniques, libraries, or APIs used in the notebook. The title is the only H1 tag in the notebook. Use sentence-style capitalization for titles."
   ]
  },
  {
   "cell_type": "markdown",
   "metadata": {},
   "source": [
    "### <font color=green>Example titles</font> \n",
    "\n",
    "-  Analyze motor vehicle statistics\n",
    "-  Visualize car data with Brunel\n",
    "-  Analyze open data sets with pandas DataFrames\n",
    "-  Access MySQL with Python"
   ]
  },
  {
   "cell_type": "markdown",
   "metadata": {},
   "source": [
    "### Introductory paragraphs\n",
    "\n",
    "Include at least one and no more than three introductory paragraphs. Introduce the tutorial, describe the data, and set expectations for what the tutorial will provide. If necessary, add assumptions about what the reader should know or have access to before starting the tutorial. You can include very simple prerequisites here, but put anything requiring steps or additional explanation in the Setup section.\n",
    "\n",
    "Optionally provide additional explanations, such as \"why\" information or story details to set the stage for the notebook tasks. \n",
    "\n",
    "### Images\n",
    "Optionally provide images to pique users' interest in the notebook early in the introduction or to make a concept or example more concrete anywhere in the notebook. The image might be a figure or visualization that serves as an abstract, summarizing the process the user will complete. \n",
    "\n",
    "Make sure that you don't use an image that you don't have the copyright for. For example, don't copy an image from an internet search. Use images created within IBM, or provide proof of permission to reproduce.\n",
    "\n",
    "### Programming language and Spark versions\n",
    "Include the language and Spark versions that you've verified work for the notebook."
   ]
  },
  {
   "cell_type": "markdown",
   "metadata": {},
   "source": [
    "### <font color=green>Examples of introductory text</font>\n",
    "\n",
    "The Brunel Visualization language makes it easy to build interactive charts and diagrams that you can deploy rapidly. This notebook contains the steps and code to get you started with visualizing data with Brunel.\n",
    "***\n",
    "This notebook guides you through the basic concepts to start working with Apache Spark, including how to set up your environment, create and analyze data sets, and work with data files.\n",
    "\n",
    "Some familiarity with Python is recommended. This notebook runs on Python 2 with Spark 1.6 and 2.0."
   ]
  },
  {
   "cell_type": "markdown",
   "metadata": {},
   "source": [
    "## Table of contents"
   ]
  },
  {
   "cell_type": "markdown",
   "metadata": {},
   "source": [
    "Unless your notebook is very short, provide a list of sections with links to each section. If the sections should be read or completed sequentially, number the sections in both the table of contents and where they appear in the body of the notebook. Add links to subsections if your notebook is long and multiple main sections have subsections."
   ]
  },
  {
   "cell_type": "markdown",
   "metadata": {},
   "source": [
    "1. [Setup](#setup)<br>\n",
    "    1.1 [What's in the Setup section](#setup1)<br>\n",
    "    1.2 [Example setup text](#setup2)<br>\n",
    "2. [Load data](#load)<br>\n",
    "    2.1 [Example of describing a data set](#load1)<br>\n",
    "    2.2 [Example of downloading a data set](#load2)<br>\n",
    "    2.3 [Example of loading a data set from a local file](#load3)<br>\n",
    "3. [Analyze data](#analyze)<br>\n",
    "    3.1 [Example of a section purpose](#analyze1)<br>\n",
    "    3.2 [How to describe code](#analyze2)<br>\n",
    "    3.3 [Examples of describing a command](#analyze3)<br>\n",
    "    3.4 [Example of describing an algorithm](#analyze4)<br>\n",
    "    3.5 [Example of describing command results](#analyze5)<br>\n",
    "4. [Summary and next steps](#summary)<br>\n",
    "[Authors](#authors) (Don't put this section in your TOC)<br>\n",
    "[Data citations](#citations) (Don't put this section in your TOC)"
   ]
  },
  {
   "cell_type": "markdown",
   "metadata": {},
   "source": [
    "## 1. Setup \n",
    "\n",
    "Main section titles use heading level 2. If you numbered the sections in the table of contents, number them here. \n",
    "\n",
    "Use imperative verbs in the title when possible and try to provide the goal of the section.\n",
    "\n",
    "Use subsections (H3s) for distinct setup tasks if you have more than two or three simple tasks. Add links to the subsections at the beginning of the section.\n",
    "\n",
    "Provide a paragraph to explain what the main section does. Even if the section has multiple subsections, summarize the goal of the overall section here. If the section simply has code, explain what the code does.\n",
    "\n",
    "### <a id=\"setup1\"></a> 1.1 What's in the Setup section\n",
    "The setup section is optional: use it if your notebook has steps that are outside of DSX.\n",
    "\n",
    "Explain what setup tasks are needed and whether they need to be repeated or are one-time only. Setup tasks include any prerequisites for the notebook tasks, such as creating accounts, authenticating, accessing data for future steps, or importing modules. "
   ]
  },
  {
   "cell_type": "markdown",
   "metadata": {},
   "source": [
    "<a id=\"setup2\"></a>\n",
    "### <font color=green> 1.2 Example setup text</font>\n",
    "\n",
    "Before you use the example code in this notebook, do these setup tasks:\n",
    "\n",
    "  1.1 Create an IBM Cloudant account. <br>\n",
    "  1.2 Configure a database and load it with some data. <br> \n",
    "  1.3 Import the Blah module."
   ]
  },
  {
   "cell_type": "markdown",
   "metadata": {},
   "source": [
    "<a id=\"load\"></a>\n",
    "## 2. Load data "
   ]
  },
  {
   "cell_type": "markdown",
   "metadata": {},
   "source": [
    "Most notebooks have tasks around getting and loading data. Include a short description of the data set and how to get it.\n",
    "\n",
    "If you are using **open data sets**, make sure that you describe the data set in your own words instead of copying the description of the data set from the source. Any text that's copied from a non-IBM site is a copyright infringement, except for data citations. For open data sets, you must include data citations (see [Data citations](#citations)). You can modify an open data set and supply a link to it in GitHub, but you must identify the original source of the data and include data citations."
   ]
  },
  {
   "cell_type": "markdown",
   "metadata": {},
   "source": [
    "<a id=\"load1\"></a>\n",
    "### <font color=green>2.1 Example of describing a data set</font> \n",
    "\n",
    "The data set contains the transactions of an online retailer of gift items for the period from 01/12/2010 to 09/12/2011. Many of the customers are wholesalers.<br>\n",
    "<br>\n",
    "<a id=\"load2\"></a>\n",
    "### <font color=green>2.2 Example of downloading a data set</font> \n",
    "\n",
    "To get the precipitation data set, click [annual precipitation data set](https://cdsax.cloudant.com/public-samples/test/precipitation.csv) to download the data in CSV format and then save it on your computer."
   ]
  },
  {
   "cell_type": "markdown",
   "metadata": {},
   "source": [
    "<a id=\"load3\"></a>\n",
    "### <font color=green>2.3 Example of loading a data set from a local file</font> \n",
    "\n",
    "Load the `precipitation.csv` file into your notebook by clicking the **Find and Add Data** icon on the notebook action bar. Drop the file into the box or browse to select the file.\n",
    "The file is loaded to your object storage and appears in the **Data Assets** section of the project.\n",
    "\n",
    "To load the data from the `precipitation.csv` file into a pandas DataFrame, click in the next code cell and select **Insert to code > pandas DataFrame** under the file name."
   ]
  },
  {
   "cell_type": "markdown",
   "metadata": {},
   "source": [
    "<a id=\"analyze\"></a>\n",
    "## 3. Analyze data\n",
    "You can add as many major headings as you need to your notebook. A major section accomplishes a single large task. Use subsections for smaller tasks.\n",
    "\n",
    "<a id=\"analyze1\"></a>\n",
    "### <font color=green>3.1 Example of a section purpose</font>\n",
    "\n",
    "In this section, you'll download a file from a URL, create an RDD from it, and analyze the text in it."
   ]
  },
  {
   "cell_type": "markdown",
   "metadata": {},
   "source": [
    "<a id=\"analyze2\"></a>\n",
    "### 3.2 How to describe code\n",
    "\n",
    "It's very important that you describe what the code is doing. Keep your target audience in mind! \n",
    "\n",
    " - Give a description of what the command is going to do.\n",
    " - Don't put commands for multiple tasks in the same code cell, but it's fine to include importing libraries or showing rows in the same cell as another command.\n",
    " - If necessary, describe the results of the command. If it's not obvious, explain what the command did and the significance of the result. \n",
    " - If the code contains parameters, make sure you describe what they are, why you set them the way you did, and if applicable, what the default values are."
   ]
  },
  {
   "cell_type": "markdown",
   "metadata": {},
   "source": [
    "<a id=\"analyze3\"></a>\n",
    "### <font color=green>3.3 Examples of describing a command</font>\n",
    "\n",
    " - Create a DataFrame and show the inferred schema.\n",
    " - Register the DataFrame as a table so that you can run SQL queries on it and show the first two rows.\n",
    " - Create a Python collection of the numbers 1 - 10.\n",
    " "
   ]
  },
  {
   "cell_type": "markdown",
   "metadata": {},
   "source": [
    "<a id=\"analyze4\"></a>\n",
    "### <font color=green>3.4 Example of describing an algorithm</font>\n",
    "Machine learning algorithms have standard parameters and hyperparameters. Standard parameters specify data and options. Hyperparameters control the performance of the algorithm.\n",
    "\n",
    "The ALS algorithm has these hyperparameters:  \n",
    "\n",
    " - The `rank` hyperparameter represents the number of features. The default value of `rank` is 10.\n",
    " - The `maxIter` hyperparameter represents the number of iterations to run the least squares computation. The default value of `maxIter` is 10.\n",
    "\n",
    "Use the training DataFrame to train three models with the ALS algorithm with different values for the `rank` and `maxIter` hyperparameters. Assign the `userCol`, `itemCol`, and `ratingCol` parameters to the appropriate data columns. Set the `implicitPrefs` parameter to `true` so that the algorithm can predict latent factors."
   ]
  },
  {
   "cell_type": "markdown",
   "metadata": {},
   "source": [
    "<a id=\"analyze5\"></a>\n",
    "### <font color=green> 3.5 Examples of describing command results\n",
    "\n",
    " - You created the string \"Hello Human\" and you returned it as the first element of the RDD.\n",
    " - The first print command shows that the DataFrame is a Spark DataFrame. The last print command shows the column names and data types of the DataFrame.\n",
    " - The third model (model3) has the lowest mean squared error value, so it's the most accurate.\n",
    " - The recommended products look pretty similar to the purchased products, and, in some cases, are actually the same. Your model works!"
   ]
  },
  {
   "cell_type": "markdown",
   "metadata": {
    "collapsed": true
   },
   "source": [
    "<a id=\"summary\"></a>\n",
    "## 4. Summary and next steps     "
   ]
  },
  {
   "cell_type": "markdown",
   "metadata": {},
   "source": [
    "Use heading level 2 for your summary section title.\n",
    "The title of this section can be different depending on content. If the title \"Summary and next steps\" is not appropriate, pick another one.  Possibilities include:  \n",
    "-  Summary\n",
    "-  Next steps\n",
    "-  Resources\n",
    "-  Links\n",
    "-  That's it!\n",
    "-  What's next\n",
    "-  Dig deeper"
   ]
  },
  {
   "cell_type": "markdown",
   "metadata": {
    "collapsed": true
   },
   "source": [
    "Include a paragraph that reviews what the tutorial covered and what new skills were learned.\n",
    "\n",
    "Optionally mention any follow-on steps, tasks, or notebooks that the user can do now.\n",
    "\n",
    "Provide relevant links to notebooks, communities, starter kits, KC topics, forums, and so on. Don't overdo the links. It's best to provide fewer than 5. Links can be in list or paragraph form but should have appropriate titles. \n",
    "\n",
    "### <font color=green>Example of the Summary and next steps section</font>\n",
    "\n",
    "You successfully completed this notebook! You learned how to upload files to your notebook and create a DataFrame. Check out our _[Learning center](www.ibm.com)_ for more samples, tutorials, documentation, how-tos, and blog posts.  \n",
    "\n",
    "If you want to try other notebooks for data cleansing, take a look at the Blah blah blah notebook or the This and that notebook from our _[samples list](http://www.google.com)_. "
   ]
  },
  {
   "cell_type": "markdown",
   "metadata": {},
   "source": [
    "### <a id=\"authors\"></a>Authors\n",
    "Include an H3 section titled \"Author\" or \"Authors\" with a short bio for the authors. Put the author's name in bold. Don't put the Authors section in the TOC.\n",
    "\n",
    "#### <font color=green>Example text for authors</font>\n",
    "\n",
    "**Saeed Aghabozorgi**, PhD, is a Data Scientist in IBM with a track record of developing enterprise-level applications that substantially increases clients' ability to turn data into actionable knowledge. He is a researcher in the data mining field and an expert in developing advanced analytic methods like machine learning and statistical modelling on large data sets.\n",
    "\n",
    "**Polong Lin** is a Data Scientist at IBM in Canada. Under the Emerging Technologies division, Polong is responsible for educating the next generation of data scientists through Big Data University. Polong is a regular speaker in conferences and meetups, and holds an M.Sc. in Cognitive Psychology."
   ]
  },
  {
   "cell_type": "markdown",
   "metadata": {},
   "source": [
    "### <a id=\"citations\"></a>Data citations\n",
    "\n",
    "Even if you use data that's publicly available, you might need to include a citation. Use an H3 section. Don't put it in the TOC.\n",
    "\n",
    "#### <font color=green>Example citation</font>\n",
    "\n",
    "Lichman, M. (2013). UCI Machine Learning Repository [http://archive.ics.uci.edu/ml](http://archive.ics.uci.edu/ml). Irvine, CA: University of California, School of Information and Computer Science. "
   ]
  },
  {
   "cell_type": "markdown",
   "metadata": {},
   "source": [
    "<hr>\n",
    "Copyright &copy; IBM Corp. 2017. This notebook and its source code are released under the terms of the MIT License."
   ]
  },
  {
   "cell_type": "markdown",
   "metadata": {},
   "source": [
    "In most cases, leave the copyright information the way it is.\n",
    "\n",
    "If you republish a notebook in a later year, include that year: original year, updated year. For example: 2017, 2018."
   ]
  },
  {
   "cell_type": "code",
   "execution_count": null,
   "metadata": {
    "collapsed": true
   },
   "outputs": [],
   "source": []
  }
 ],
 "metadata": {
  "kernelspec": {
   "display_name": "Python 2",
   "language": "python",
   "name": "python2"
  },
  "language_info": {
   "codemirror_mode": {
    "name": "ipython",
    "version": 2
   },
   "file_extension": ".py",
   "mimetype": "text/x-python",
   "name": "python",
   "nbconvert_exporter": "python",
   "pygments_lexer": "ipython2",
   "version": "2.7.13"
  }
 },
 "nbformat": 4,
 "nbformat_minor": 0
}
