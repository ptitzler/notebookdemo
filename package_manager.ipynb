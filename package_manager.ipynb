{
 "cells": [
  {
   "cell_type": "markdown",
   "metadata": {},
   "source": [
    "# Package Manager\n",
    "\n",
    "\n",
    "## Introduction\n",
    "\n",
    "You can use the PackageManager component of PixieDust to install and uninstall maven packages into your notebook kernel without editing configuration files. This component is essential when you run notebooks from a hosted cloud environment and do not have access to the configuration files.\n",
    "\n",
    "You can use this component in the following ways:\n",
    "\n",
    "* [List installed packages](#list)\n",
    "* Install packages\n",
    " * [Install a spark package from spark-packages.org](#install_from_spark_packages)\n",
    " * [Install from maven search repository](#install_from_maven)\n",
    " * [Install a jar file directly from an addressable location](#install_from_generic)\n",
    "* [Uninstall packages](#uninstall)\n"
   ]
  },
  {
   "cell_type": "markdown",
   "metadata": {},
   "source": [
    "## Prerequisites"
   ]
  },
  {
   "cell_type": "code",
   "execution_count": null,
   "metadata": {
    "collapsed": false
   },
   "outputs": [],
   "source": [
    "import pixiedust"
   ]
  },
  {
   "cell_type": "markdown",
   "metadata": {},
   "source": [
    "## <a id=\"list\"></a>List packages\n",
    "\n",
    "To uninstall a package run `pixiedust.printAllPackages()`"
   ]
  },
  {
   "cell_type": "code",
   "execution_count": null,
   "metadata": {
    "collapsed": false
   },
   "outputs": [],
   "source": [
    "#import pixiedust\n",
    "pixiedust.printAllPackages()"
   ]
  },
  {
   "cell_type": "markdown",
   "metadata": {},
   "source": [
    "## Install Packages"
   ]
  },
  {
   "cell_type": "markdown",
   "metadata": {},
   "source": [
    "### <a id=\"install_from_spark_packages\"></a>Install a spark package from spark-packages.org\n",
    "\n",
    "* Go to [spark-packages.org](https://spark-packages.org/), and search for your package.\n",
    "\n",
    "* Click the link for your package and locate the code to run the package in spark-shell, pyspark, or spark-submit. For example, you would retrieve the following line:\n",
    "\n",
    "```shell\n",
    " > $SPARK_HOME/bin/spark-shell --packages graphframes:graphframes:0.1.0-spark1.6\n",
    "```\n",
    "\n",
    "* Copy the maven ID of the package. A maven ID includes a `groupId`, `artifactId`, and `version`, each separated by a colon (`:`). In the previous example, the maven ID appears after the packages, such as `graphframes:graphframes:0.1.0-spark1.6`.\n",
    "\n",
    "To load a specific package version"
   ]
  },
  {
   "cell_type": "code",
   "execution_count": null,
   "metadata": {
    "collapsed": false
   },
   "outputs": [],
   "source": [
    "#import pixiedust\n",
    "pixiedust.installPackage(\"graphframes:graphframes:0.1.0-spark1.6\")"
   ]
  },
  {
   "cell_type": "markdown",
   "metadata": {},
   "source": [
    "> Specify version `0` to fetch the latest release: \n",
    "> `pixiedust.installPackage(\"graphframes:graphframes:0\")`"
   ]
  },
  {
   "cell_type": "markdown",
   "metadata": {},
   "source": [
    "Notice the line that instructs you to restart the kernel to complete installation of the new package. This is required only the first time. Restart the kernel by using the Kernel/Restart menu. After the kernel is restarted, the library is added to the classpath and can be used from your Python notebook.\n",
    "\n",
    "> Some libraries, such as GraphFrames include a python module within it. PixieDust automatically adds the python file into the SparkContext. However, you must explicitly call pixiedust.installPackage at the beginning of every kernel session so that the python modules are added to the SparkContext."
   ]
  },
  {
   "cell_type": "markdown",
   "metadata": {},
   "source": [
    "### <a id=\"install_from_maven\"></a>Install from maven search repository\n",
    "\n",
    "* Go to the maven search site, [search.maven.org](http://search.maven.org), and look for the package of your choice, like `org.apache.commons`. \n",
    "* In the results page, open the link of the component you want, like `commons-proxy`. \n",
    "* Run the `installPackage` method and specify the *groupId*, *artifactId*, and *version* parameters: `pixiedust.installPackage(\"groupId:artifactId:version\")`"
   ]
  },
  {
   "cell_type": "code",
   "execution_count": null,
   "metadata": {
    "collapsed": false
   },
   "outputs": [],
   "source": [
    "# import pixiedust\n",
    "pixiedust.installPackage(\"org.apache.commons:commons-proxy:1.0\")"
   ]
  },
  {
   "cell_type": "markdown",
   "metadata": {},
   "source": [
    "> Specify version `0` to fetch the latest release: \n",
    "> `pixiedust.installPackage(\"org.apache.commons:commons-proxy:0\")`"
   ]
  },
  {
   "cell_type": "markdown",
   "metadata": {},
   "source": [
    "By default, PixieDust automatically looks for the following two maven repositories: http://repo1.maven.org/maven2 and http://dl.bintray.com/spark-packages/maven. If you use a custom maven repository, you can specify it by using the following `base` keyword argument:"
   ]
  },
  {
   "cell_type": "code",
   "execution_count": null,
   "metadata": {
    "collapsed": false
   },
   "outputs": [],
   "source": [
    "# import pixiedust\n",
    "pixiedust.installPackage(\"org.apache.commons:commons-proxy:0\", base=\"http://repo1.maven.org/maven2\")"
   ]
  },
  {
   "cell_type": "markdown",
   "metadata": {},
   "source": [
    "### <a id=\"install_from_generic\"></a>Install a JAR file directly from an addressable location"
   ]
  },
  {
   "cell_type": "markdown",
   "metadata": {},
   "source": [
    "To install a JAR file that is not packaged in a maven repository, provide the URL to the jar file. PixieDust will then bypass the maven look up and directly download the jar file from the specified location:"
   ]
  },
  {
   "cell_type": "code",
   "execution_count": null,
   "metadata": {
    "collapsed": false
   },
   "outputs": [],
   "source": [
    "#import pixiedust\n",
    "pixiedust.installPackage(\"https://github.com/ibm-cds-labs/spark.samples/raw/master/dist/streaming-twitter-assembly-1.6.jar\")"
   ]
  },
  {
   "cell_type": "markdown",
   "metadata": {},
   "source": [
    "## <a id=\"uninstall\"></a>Uninstall packages\n",
    "\n",
    "To uninstall a package run `pixiedust.uninstallPackage(<<packagename>>)`"
   ]
  },
  {
   "cell_type": "code",
   "execution_count": null,
   "metadata": {
    "collapsed": false
   },
   "outputs": [],
   "source": [
    "#import pixiedust\n",
    "pixiedust.uninstallPackage(\"graphframes:graphframes:0.1.0-spark1.6\")"
   ]
  },
  {
   "cell_type": "markdown",
   "metadata": {},
   "source": [
    "<hr>\n",
    "Copyright &copy; IBM Corp. 2017. This notebook and its source code are released under the terms of the MIT License."
   ]
  }
 ],
 "metadata": {
  "kernelspec": {
   "display_name": "Python with Pixiedust (Spark 1.6)",
   "language": "python",
   "name": "pythonwithpixiedustspark16"
  },
  "language_info": {
   "codemirror_mode": {
    "name": "ipython",
    "version": 2
   },
   "file_extension": ".py",
   "mimetype": "text/x-python",
   "name": "python",
   "nbconvert_exporter": "python",
   "pygments_lexer": "ipython2",
   "version": "2.7.13"
  }
 },
 "nbformat": 4,
 "nbformat_minor": 0
}
